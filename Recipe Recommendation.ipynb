{
 "cells": [
  {
   "cell_type": "code",
   "execution_count": 1,
   "metadata": {},
   "outputs": [
    {
     "name": "stdout",
     "output_type": "stream",
     "text": [
      "Requirement already satisfied: scikit-learn in c:\\python312\\lib\\site-packages (1.6.0)\n",
      "Requirement already satisfied: numpy>=1.19.5 in c:\\python312\\lib\\site-packages (from scikit-learn) (2.0.0)\n",
      "Requirement already satisfied: scipy>=1.6.0 in c:\\python312\\lib\\site-packages (from scikit-learn) (1.14.1)\n",
      "Requirement already satisfied: joblib>=1.2.0 in c:\\python312\\lib\\site-packages (from scikit-learn) (1.4.2)\n",
      "Requirement already satisfied: threadpoolctl>=3.1.0 in c:\\python312\\lib\\site-packages (from scikit-learn) (3.5.0)\n",
      "Note: you may need to restart the kernel to use updated packages.\n"
     ]
    },
    {
     "name": "stderr",
     "output_type": "stream",
     "text": [
      "\n",
      "[notice] A new release of pip is available: 24.3.1 -> 25.0\n",
      "[notice] To update, run: python.exe -m pip install --upgrade pip\n"
     ]
    }
   ],
   "source": [
    "pip install scikit-learn\n"
   ]
  },
  {
   "cell_type": "code",
   "execution_count": 1,
   "metadata": {},
   "outputs": [],
   "source": [
    "import pandas as pd\n",
    "import numpy as np\n",
    "from sklearn.feature_extraction.text import TfidfVectorizer\n",
    "from sklearn.metrics.pairwise import cosine_similarity\n",
    "import ast\n"
   ]
  },
  {
   "cell_type": "code",
   "execution_count": 2,
   "metadata": {},
   "outputs": [],
   "source": [
    "def load_and_preprocess_data(path):\n",
    "    df = pd.read_csv(path)\n",
    "    print(\"Dataset Preview:\")\n",
    "    print(df.head(), \"\\n\")\n",
    "    df.drop(columns=['link', 'source', 'NER', 'site'], inplace=True, errors='ignore')\n",
    "    # Lowercase the ingredients while retaining their list format (as string)\n",
    "    df['ingredients'] = df['ingredients'].str.lower()\n",
    "    return df"
   ]
  },
  {
   "cell_type": "code",
   "execution_count": 3,
   "metadata": {},
   "outputs": [],
   "source": [
    "def build_tfidf_matrix(df):\n",
    "    vectorizer = TfidfVectorizer(stop_words='english')\n",
    "    matrix = vectorizer.fit_transform(df['ingredients'])\n",
    "    return vectorizer, matrix\n"
   ]
  },
  {
   "cell_type": "code",
   "execution_count": 4,
   "metadata": {},
   "outputs": [],
   "source": [
    "def recommend_recipe(user_ingredients, vectorizer, matrix, df, top_n=1):\n",
    "    user_input = user_ingredients.lower().replace(',', ' ')\n",
    "    user_vector = vectorizer.transform([user_input])\n",
    "    scores = cosine_similarity(user_vector, matrix).flatten()\n",
    "    if scores.max() == 0:\n",
    "        return []\n",
    "    best_indices = scores.argsort()[::-1][:top_n]\n",
    "    recommendations = []\n",
    "    for idx in best_indices:\n",
    "        recommendations.append({\n",
    "            'title': df.iloc[idx]['title'],\n",
    "            'ingredients': df.iloc[idx]['ingredients'],\n",
    "            'directions': df.iloc[idx]['directions'],\n",
    "            'similarity': scores[idx]\n",
    "        })\n",
    "    return recommendations"
   ]
  },
  {
   "cell_type": "code",
   "execution_count": 5,
   "metadata": {},
   "outputs": [],
   "source": [
    "def print_list(text):\n",
    "    # If text starts with '[' assume it's a list in string form and convert it\n",
    "    if text.strip().startswith('['):\n",
    "        items = ast.literal_eval(text)\n",
    "        for item in items:\n",
    "            print(f\" - {item}\")\n",
    "    else:\n",
    "        # Otherwise split on commas and print each item\n",
    "        for item in text.split(','):\n",
    "            print(f\" - {item.strip()}\")"
   ]
  },
  {
   "cell_type": "code",
   "execution_count": 6,
   "metadata": {},
   "outputs": [],
   "source": [
    "def display_recommendations(recommendations):\n",
    "    if not recommendations:\n",
    "        print(\"\\nNo matching recipes found. Please try different ingredients.\\n\")\n",
    "        return\n",
    "    print(\"\\n\" + \"=\" * 60)\n",
    "    for i, rec in enumerate(recommendations, start=1):\n",
    "        print(f\"Recommendation #{i}\")\n",
    "        print(f\"Recipe Title     : {rec['title']}\")\n",
    "        print(f\"Similarity Score : {rec['similarity']:.2f}\")\n",
    "        print(\"\\nIngredients:\")\n",
    "        print_list(rec['ingredients'])\n",
    "        print(\"\\nDirections:\")\n",
    "        print_list(rec['directions'])\n",
    "        print(\"=\" * 60 + \"\\n\")"
   ]
  },
  {
   "cell_type": "code",
   "execution_count": 7,
   "metadata": {},
   "outputs": [],
   "source": [
    "def main():\n",
    "    path = 'recipes_data.csv/recipes_data.csv'\n",
    "    df = load_and_preprocess_data(path)\n",
    "    vectorizer, matrix = build_tfidf_matrix(df)\n",
    "    user_input = input(\"Enter available ingredients (comma separated): \")\n",
    "    top_n_input = input(\"How many recommendations would you like? (default 1): \")\n",
    "    top_n = int(top_n_input) if top_n_input.strip() else 1\n",
    "    recs = recommend_recipe(user_input, vectorizer, matrix, df, top_n=top_n)\n",
    "    display_recommendations(recs)"
   ]
  },
  {
   "cell_type": "code",
   "execution_count": 8,
   "metadata": {},
   "outputs": [
    {
     "name": "stdout",
     "output_type": "stream",
     "text": [
      "Dataset Preview:\n",
      "                   title                                        ingredients  \\\n",
      "0    No-Bake Nut Cookies  [\"1 c. firmly packed brown sugar\", \"1/2 c. eva...   \n",
      "1  Jewell Ball'S Chicken  [\"1 small jar chipped beef, cut up\", \"4 boned ...   \n",
      "2            Creamy Corn  [\"2 (16 oz.) pkg. frozen corn\", \"1 (8 oz.) pkg...   \n",
      "3          Chicken Funny  [\"1 large whole chicken\", \"2 (10 1/2 oz.) cans...   \n",
      "4   Reeses Cups(Candy)    [\"1 c. peanut butter\", \"3/4 c. graham cracker ...   \n",
      "\n",
      "                                          directions  \\\n",
      "0  [\"In a heavy 2-quart saucepan, mix brown sugar...   \n",
      "1  [\"Place chipped beef on bottom of baking dish....   \n",
      "2  [\"In a slow cooker, combine all ingredients. C...   \n",
      "3  [\"Boil and debone chicken.\", \"Put bite size pi...   \n",
      "4  [\"Combine first four ingredients and press in ...   \n",
      "\n",
      "                                              link    source  \\\n",
      "0   www.cookbooks.com/Recipe-Details.aspx?id=44874  Gathered   \n",
      "1  www.cookbooks.com/Recipe-Details.aspx?id=699419  Gathered   \n",
      "2   www.cookbooks.com/Recipe-Details.aspx?id=10570  Gathered   \n",
      "3  www.cookbooks.com/Recipe-Details.aspx?id=897570  Gathered   \n",
      "4  www.cookbooks.com/Recipe-Details.aspx?id=659239  Gathered   \n",
      "\n",
      "                                                 NER               site  \n",
      "0  [\"bite size shredded rice biscuits\", \"vanilla\"...  www.cookbooks.com  \n",
      "1  [\"cream of mushroom soup\", \"beef\", \"sour cream...  www.cookbooks.com  \n",
      "2  [\"frozen corn\", \"pepper\", \"cream cheese\", \"gar...  www.cookbooks.com  \n",
      "3  [\"chicken gravy\", \"cream of mushroom soup\", \"c...  www.cookbooks.com  \n",
      "4  [\"graham cracker crumbs\", \"powdered sugar\", \"p...  www.cookbooks.com   \n",
      "\n",
      "\n",
      "============================================================\n",
      "Recommendation #1\n",
      "Recipe Title     : Drop Tea Cakes\n",
      "Similarity Score : 0.92\n",
      "\n",
      "Ingredients:\n",
      " - 2 c. flour\n",
      " - 1 c. sugar\n",
      " - 2/3 c. butter\n",
      " - 1 tsp. vanilla\n",
      " - 2 eggs\n",
      "\n",
      "Directions:\n",
      " - Mix up good and drop by teaspoons far apart.\n",
      " - Cook in 300° preheated oven.\n",
      "============================================================\n",
      "\n",
      "Recommendation #2\n",
      "Recipe Title     : Grandmother'S Cookie Press Vanilla Wafers\n",
      "Similarity Score : 0.92\n",
      "\n",
      "Ingredients:\n",
      " - 1 c. sugar\n",
      " - 1 1/4 c. butter\n",
      " - 2 eggs\n",
      " - 1 tsp. vanilla\n",
      " - 3 1/4 c. flour\n",
      "\n",
      "Directions:\n",
      " - Cream the butter and sugar.\n",
      " - Add eggs; beat thoroughly.\n",
      " - Add vanilla and flour.\n",
      " - Mix well, until smooth.\n",
      " - Use cookie press and form into shapes on ungreased cookie sheets.\n",
      " - Bake for 10 to 12 minutes, until lightly browned on top, at 400°.\n",
      " - Best if formed into flat ridged bars.\n",
      "============================================================\n",
      "\n",
      "Recommendation #3\n",
      "Recipe Title     : Tea Cakes\n",
      "Similarity Score : 0.92\n",
      "\n",
      "Ingredients:\n",
      " - 2 c. sugar\n",
      " - 1 c. butter\n",
      " - 2 eggs\n",
      " - 3 c. flour\n",
      " - 1 tsp. vanilla\n",
      "\n",
      "Directions:\n",
      " - Cream sugar and butter.\n",
      " - Add eggs, one at a time.\n",
      " - Add other ingredients and bake at 325°.\n",
      "============================================================\n",
      "\n",
      "Recommendation #4\n",
      "Recipe Title     : Grandma'S Tea Cakes\n",
      "Similarity Score : 0.92\n",
      "\n",
      "Ingredients:\n",
      " - 1 c. sugar\n",
      " - 1 c. butter\n",
      " - 3 eggs\n",
      " - 3 1/2 c. flour\n",
      " - 1 tsp. vanilla\n",
      "\n",
      "Directions:\n",
      " - Cream sugar and butter.\n",
      " - Add eggs, beating well after each addition.\n",
      " - Put in flavoring; add flour to make a stiff dough.\n",
      " - Roll thin; cut with big biscuit cutter.\n",
      " - Bake at 350° for about 10 minutes.\n",
      "============================================================\n",
      "\n"
     ]
    }
   ],
   "source": [
    "if __name__ == '__main__':\n",
    "    main()\n"
   ]
  },
  {
   "cell_type": "code",
   "execution_count": null,
   "metadata": {},
   "outputs": [],
   "source": []
  }
 ],
 "metadata": {
  "kernelspec": {
   "display_name": "Python 3",
   "language": "python",
   "name": "python3"
  },
  "language_info": {
   "codemirror_mode": {
    "name": "ipython",
    "version": 3
   },
   "file_extension": ".py",
   "mimetype": "text/x-python",
   "name": "python",
   "nbconvert_exporter": "python",
   "pygments_lexer": "ipython3",
   "version": "3.12.8"
  }
 },
 "nbformat": 4,
 "nbformat_minor": 2
}
